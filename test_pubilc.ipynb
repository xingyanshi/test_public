{
 "cells": [
  {
   "cell_type": "code",
   "execution_count": 1,
   "id": "321b1cb4-b128-4811-ac12-c87a38edaaa8",
   "metadata": {},
   "outputs": [
    {
     "name": "stdout",
     "output_type": "stream",
     "text": [
      "pubilc\n"
     ]
    }
   ],
   "source": [
    "print(\"pubilc\")"
   ]
  },
  {
   "cell_type": "code",
   "execution_count": 2,
   "id": "26c82c96-7944-40dd-a86d-ade176c62781",
   "metadata": {},
   "outputs": [
    {
     "name": "stdout",
     "output_type": "stream",
     "text": [
      "Linux bohrium-110425-1009249 4.19.24-7.34.cbp.al7.x86_64 #1 SMP Thu Dec 15 08:56:31 UTC 2022 x86_64 x86_64 x86_64 GNU/Linux\n"
     ]
    }
   ],
   "source": [
    "!uname -a"
   ]
  },
  {
   "cell_type": "code",
   "execution_count": 3,
   "id": "e0465d91-dc21-4de6-8118-d52ab7e3a8eb",
   "metadata": {},
   "outputs": [
    {
     "name": "stdout",
     "output_type": "stream",
     "text": [
      " 1_test_public.ipynb   RoseTTAFold.ipynb   test_public.ipynb\n",
      " \u001b[0m\u001b[01;34m230315\u001b[0m/              \u001b[01;34m'a s d f'\u001b[0m/\n"
     ]
    }
   ],
   "source": []
  }
 ],
 "metadata": {
  "kernelspec": {
   "display_name": "Python 3",
   "language": "python",
   "name": "python3"
  },
  "language_info": {
   "codemirror_mode": {
    "name": "ipython",
    "version": 3
   },
   "file_extension": ".py",
   "mimetype": "text/x-python",
   "name": "python",
   "nbconvert_exporter": "python",
   "pygments_lexer": "ipython3",
   "version": "3.8.16"
  }
 },
 "nbformat": 4,
 "nbformat_minor": 5
}
